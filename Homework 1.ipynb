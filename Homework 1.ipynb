{
 "cells": [
  {
   "cell_type": "markdown",
   "metadata": {},
   "source": [
    "## Homework 1 - Solutions"
   ]
  },
  {
   "cell_type": "markdown",
   "metadata": {},
   "source": [
    "## Problem 1"
   ]
  },
  {
   "cell_type": "markdown",
   "metadata": {},
   "source": [
    "We will start by estimating the uncertainty, reliability and resolution\n",
    "Then the Brier score is simply = uncertainty + reliability - resolution"
   ]
  },
  {
   "cell_type": "code",
   "execution_count": 1,
   "metadata": {},
   "outputs": [
    {
     "name": "stdout",
     "output_type": "stream",
     "text": [
      "16274\n"
     ]
    }
   ],
   "source": [
    "import pandas as pd\n",
    "import numpy as np\n",
    "import matplotlib.pyplot as plt\n",
    "import warnings\n",
    "warnings.filterwarnings('ignore')\n",
    "\n",
    "#dataset = pd.read_csv(\"https://projects.fivethirtyeight.com/nfl-api/nfl_elo.csv\")\n",
    "dataset = pd.read_csv(\"nfl_elo.csv\")\n",
    "print(len(dataset))"
   ]
  },
  {
   "cell_type": "markdown",
   "metadata": {},
   "source": [
    "We filter data only after the 2010 season and create a column that keeps track of which team won the game"
   ]
  },
  {
   "cell_type": "code",
   "execution_count": 2,
   "metadata": {},
   "outputs": [],
   "source": [
    "data_mask = dataset['season'] >= 2010\n",
    "data = dataset[data_mask]\n",
    "data['win1'] = data.apply(lambda row: int(row.score1 > row.score2), axis=1)"
   ]
  },
  {
   "cell_type": "markdown",
   "metadata": {},
   "source": [
    "Calculate uncertainty"
   ]
  },
  {
   "cell_type": "code",
   "execution_count": 3,
   "metadata": {},
   "outputs": [],
   "source": [
    "# base rate\n",
    "br = float(sum(data.win1))/len(data)\n",
    "uncertainty = (1-br)*br"
   ]
  },
  {
   "cell_type": "markdown",
   "metadata": {},
   "source": [
    "Calculate reliability and resolution"
   ]
  },
  {
   "cell_type": "code",
   "execution_count": 4,
   "metadata": {},
   "outputs": [
    {
     "name": "stdout",
     "output_type": "stream",
     "text": [
      "Brier Score: \t 0.22029\n",
      "Reliability: \t 0.00077\n",
      "Resolution: \t 0.02483\n",
      "Uncertainty: \t 0.24436\n"
     ]
    }
   ],
   "source": [
    "# we will use bins that cover 10% probability\n",
    "# we start from 0.1 since the minimum predicted probability is > 0.1\n",
    "bins = [0.1, 0.2, 0.3, 0.4, 0.5, 0.6, 0.7, 0.8, 0.9, 1]\n",
    "\n",
    "reliability = 0\n",
    "resolution = 0\n",
    "\n",
    "for b in range(1,len(bins)):\n",
    "        bin_mask = (data['elo_prob1'] >= bins[b-1]) & (data['elo_prob1'] < bins[b])\n",
    "        tmp = data[bin_mask]\n",
    "        nk = len(tmp)\n",
    "        pk = np.mean(tmp['elo_prob1'])\n",
    "        ok = float(sum(tmp.win1))/len(tmp)\n",
    "        reliability += nk*pow((pk-ok),2)\n",
    "        resolution += nk*pow((ok-br),2)\n",
    "\n",
    "reliability /= float(len(data))\n",
    "resolution /= float(len(data))\n",
    "brier_score = reliability - resolution + uncertainty\n",
    "\n",
    "print(\"Brier Score: \\t\", round(brier_score,5))\n",
    "print(\"Reliability: \\t\", round(reliability,5))\n",
    "print(\"Resolution: \\t\", round(resolution,5))\n",
    "print(\"Uncertainty: \\t\", round(uncertainty,5))"
   ]
  },
  {
   "cell_type": "markdown",
   "metadata": {},
   "source": [
    "Calculate the accuracy, i.e., how many times the prediction of the elo model was correct"
   ]
  },
  {
   "cell_type": "code",
   "execution_count": 5,
   "metadata": {},
   "outputs": [
    {
     "name": "stdout",
     "output_type": "stream",
     "text": [
      "Accuracy: \t 0.6450270495214315\n"
     ]
    }
   ],
   "source": [
    "# we create a new column that will be 1 if the model predicted team1 to win and 0 otherwise\n",
    "data['pwin1'] = data.apply(lambda row: int(row.elo_prob1 > 0.5), axis=1)\n",
    "accuracy = len(data[data.pwin1 == data.win1])/float(len(data))\n",
    "print(\"Accuracy: \\t\", accuracy)"
   ]
  },
  {
   "cell_type": "markdown",
   "metadata": {},
   "source": [
    "The reliability curve has on the x-axis the predicted probability, and the y-axis the observed probability"
   ]
  },
  {
   "cell_type": "code",
   "execution_count": 6,
   "metadata": {},
   "outputs": [
    {
     "data": {
      "image/png": "[encoded data removed]",
      "text/plain": [
       "<Figure size 432x288 with 1 Axes>"
      ]
     },
     "metadata": {
      "needs_background": "light"
     },
     "output_type": "display_data"
    }
   ],
   "source": [
    "predicted_prob = []\n",
    "observed_prob = []\n",
    "\n",
    "for b in range(1,len(bins)):\n",
    "        bin_mask = (data['elo_prob1'] >= bins[b-1]) & (data['elo_prob1'] < bins[b])\n",
    "        tmp = data[bin_mask]\n",
    "        predicted_prob.append(np.mean(tmp['elo_prob1']))\n",
    "        observed_prob.append(len(tmp[tmp.win1 == 1])/float(len(tmp)))\n",
    "\n",
    "fig = plt.figure()\n",
    "ax = fig.add_subplot(111)\n",
    "# the blue curve is the y=x, i.e., perfect calibration\n",
    "plt.plot(predicted_prob,observed_prob,'r--',bins,bins,'b')\n",
    "plt.axis([0, 1, 0, 1])\n",
    "ax.set_xlabel('Predicted Probability')\n",
    "ax.set_ylabel('Pbserved Probability')\n",
    "plt.show()\n"
   ]
  },
  {
   "cell_type": "markdown",
   "metadata": {},
   "source": [
    "## Problem 2"
   ]
  },
  {
   "cell_type": "markdown",
   "metadata": {},
   "source": [
    "Here we have to essentially examine whether version A and version B have (statistically) different conversion rates. The observed conversion rates are: "
   ]
  },
  {
   "cell_type": "code",
   "execution_count": 7,
   "metadata": {},
   "outputs": [
    {
     "name": "stdout",
     "output_type": "stream",
     "text": [
      "Conversion rate A: \t 0.406\n",
      "Conversion rate B: \t 0.436\n"
     ]
    }
   ],
   "source": [
    "convA = 1320/3250.0\n",
    "convB = 1250/2870.0\n",
    "print(\"Conversion rate A: \\t\", round(convA,3))\n",
    "print(\"Conversion rate B: \\t\", round(convB,3))"
   ]
  },
  {
   "cell_type": "markdown",
   "metadata": {},
   "source": [
    "We now will perform an empirical (i.e., through simulations) statistical test. Since we want to see whether the two sites have different conversion rate (statistically) we can assume that version B has the conversion rate observed for version A (H_0). So our test is:\n",
    "\n",
    "H_0: convB = 0.406\n",
    "H_1: convB != 0.406"
   ]
  },
  {
   "cell_type": "code",
   "execution_count": 8,
   "metadata": {},
   "outputs": [
    {
     "name": "stdout",
     "output_type": "stream",
     "text": [
      "Under the null assumption, i.e., that the two version have the same conversion rate, the probability of observing at least 1250 customers buying from version B is:  0.0007\n"
     ]
    },
    {
     "data": {
      "image/png": "[encoded data removed]",
      "text/plain": [
       "<Figure size 432x288 with 1 Axes>"
      ]
     },
     "metadata": {
      "needs_background": "light"
     },
     "output_type": "display_data"
    }
   ],
   "source": [
    "# we simulate 10,000 sets of 2,870 customers and we will see how possible is to observe 1,250 (or more) customers each time\n",
    "\n",
    "sim_bought = np.random.binomial(2870, 0.406,10000)\n",
    "\n",
    "# we can now find how many of those simulations ended up with at least 1250 customers, i.e., the number of customers observed in reality\n",
    "\n",
    "empirical_pval = len(sim_bought[sim_bought>=1250])/10000.0\n",
    "\n",
    "n, bins, patches = plt.hist(x=sim_bought, bins='auto', color='#0504aa', alpha=0.7, rwidth=0.85)\n",
    "plt.grid(axis='y', alpha=0.75)\n",
    "plt.xlabel('# of customers bought')\n",
    "plt.ylabel('Frequency')\n",
    "maxfreq = n.max()\n",
    "# Set a clean upper y-axis limit.\n",
    "plt.ylim(ymax=np.ceil(maxfreq / 10) * 10 if maxfreq % 10 else maxfreq + 10)\n",
    "plt.axvline(x=1250, c='red')\n",
    "\n",
    "print(\"Under the null assumption, i.e., that the two version have the same conversion rate, the probability of observing at least 1250 customers buying from version B is: \", empirical_pval)"
   ]
  },
  {
   "cell_type": "markdown",
   "metadata": {},
   "source": [
    "This probability is fairly small, which leads us to rejecting the null hypothesis. I.e., the two versions of the website have different conversion rates."
   ]
  },
  {
   "cell_type": "markdown",
   "metadata": {},
   "source": [
    "The above solution is correct for the purposes of the homework. However, there is one subtle point. We have assumed that the real conversion rate of website A is 0.406. Nevertheless, this comes with some uncertainty too. The best is to examine directly the difference of the proportions. I.e., perform the test:\n",
    "\n",
    "H_0: convA - convB = 0\n",
    "\n",
    "H_1: convA - convB != 0\n",
    "\n",
    "This requires simulating both versions. However in our simulations we need to start with the assumption that convA and convB. For this we use the pooled proportion as the conversion rate for both versions."
   ]
  },
  {
   "cell_type": "code",
   "execution_count": 9,
   "metadata": {},
   "outputs": [
    {
     "name": "stdout",
     "output_type": "stream",
     "text": [
      "0.4199346405228758\n",
      "Under the null assumption, i.e., that the two version have the same conversion rate, the probability of observing a difference in the conversion rates of -2.9% or less is:  0.0078\n"
     ]
    },
    {
     "data": {
      "image/png": "[encoded data removed]",
      "text/plain": [
       "<Figure size 432x288 with 1 Axes>"
      ]
     },
     "metadata": {
      "needs_background": "light"
     },
     "output_type": "display_data"
    }
   ],
   "source": [
    "pooled_conv = (1320+1250)/float(3250+2870)\n",
    "print(pooled_conv)\n",
    "\n",
    "sim_convA = np.random.binomial(3250, pooled_conv, 10000)/3250.0\n",
    "sim_convB = np.random.binomial(2870, pooled_conv, 10000)/2870.0\n",
    "conv_diff = sim_convA-sim_convB\n",
    "conv_observed = convA-convB\n",
    "\n",
    "n, bins, patches = plt.hist(x=conv_diff, bins='auto', color='#0504aa', alpha=0.7, rwidth=0.85)\n",
    "plt.grid(axis='y', alpha=0.75)\n",
    "plt.xlabel('Difference between the simulated conversion rates')\n",
    "plt.ylabel('Frequency')\n",
    "maxfreq = n.max()\n",
    "# Set a clean upper y-axis limit.\n",
    "plt.ylim(ymax=np.ceil(maxfreq / 10) * 10 if maxfreq % 10 else maxfreq + 10)\n",
    "plt.axvline(x=conv_observed, c='red')\n",
    "\n",
    "empirical_pval = len(conv_diff[conv_diff<=conv_observed])/10000.0\n",
    "print(\"Under the null assumption, i.e., that the two version have the same conversion rate, the probability of observing a difference in the conversion rates of -2.9% or less is: \", empirical_pval)"
   ]
  },
  {
   "cell_type": "markdown",
   "metadata": {},
   "source": [
    "Again probability is fairly small, which leads us to rejecting the null hypothesis. I.e., the two versions of the website have different conversion rates, similar to the conclusion above. A third possible way of doing this, without any simulation is to use the z-score for 2 population proportions as explained here: https://www.socscistatistics.com/tests/ztest/ If you perform the test again you will reject the null hypothesis of equal conversion rates. "
   ]
  },
  {
   "cell_type": "markdown",
   "metadata": {},
   "source": [
    "## Problem 3"
   ]
  },
  {
   "cell_type": "markdown",
   "metadata": {},
   "source": [
    "For solving this problem we will make use of the Bayes rule.  Initially, we do not know anything about the machines, and hence, each machine is equally-probable to be the high-payout machine, i.e., our prior is Pr(M1)=Pr(M2)=0.5. \n",
    "We throw a coin to machine M1 (due to symmetry the same would be if we experimented with M2). \n",
    "\n",
    "Case 1: No pay out\n",
    "\n",
    "In this case the \"evidence\" we have is that we played and the machine did not payout (event: ~P). Hence, we have to calculate: Pr(M1|~P). This equals: \n",
    "Pr(M1|~P)=Pr(~P|M1)Pr(M1)/Pr(~P), \n",
    "\n",
    "where: \n",
    "* Pr(~P|M1) = 0.85, since this is the conditional probability of not winning given that M1 is the high payout machine\n",
    "* Pr(M1) = 0.5, our prior \n",
    "* Pr(~P) = Pr(~P|M1)P(M1) + Pr(~P|M2)P(M2) = 0.85\\*0.5 + 0.95\\*0.5 = , is the total probability of not winning (law of total probability)  "
   ]
  },
  {
   "cell_type": "code",
   "execution_count": 10,
   "metadata": {},
   "outputs": [
    {
     "name": "stdout",
     "output_type": "stream",
     "text": [
      "The posterior probability of machine 1 being the high payout machine is:  0.472\n"
     ]
    }
   ],
   "source": [
    "print(\"The posterior probability of machine 1 being the high payout machine is: \", round((0.85*0.5)/((0.85*0.5)+(0.95*0.5)),3))"
   ]
  },
  {
   "cell_type": "markdown",
   "metadata": {},
   "source": [
    "Case 2: \n",
    "\n",
    "In this case the evidence is that we win after playing M1 (event P). Hence, Pr(M1|P) = Pr(P|M1)Pr(M1)/Pr(P)\n",
    "\n",
    "where:\n",
    "* Pr(P|M1) = 0.15\n",
    "* Pr(M1) = 0.5\n",
    "* Pr(P) = Pr(P|M1)P(M1)+Pr(P|M2)P(M2) = 0.15\\*0.5+0.05\\*0.5"
   ]
  },
  {
   "cell_type": "code",
   "execution_count": 11,
   "metadata": {},
   "outputs": [
    {
     "name": "stdout",
     "output_type": "stream",
     "text": [
      "The posterior probability of machine 1 being the high payout machine is:  0.75\n"
     ]
    }
   ],
   "source": [
    "print(\"The posterior probability of machine 1 being the high payout machine is: \", round((0.15*0.5)/((0.15*0.5)+(0.05*0.5)),3))"
   ]
  }
 ],
 "metadata": {
  "kernelspec": {
   "display_name": "Python 3",
   "language": "python",
   "name": "python3"
  },
  "language_info": {
   "codemirror_mode": {
    "name": "ipython",
    "version": 3
   },
   "file_extension": ".py",
   "mimetype": "text/x-python",
   "name": "python",
   "nbconvert_exporter": "python",
   "pygments_lexer": "ipython3",
   "version": "3.6.8"
  }
 },
 "nbformat": 4,
 "nbformat_minor": 2
}
